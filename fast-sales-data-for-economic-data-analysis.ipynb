{
 "cells": [
  {
   "cell_type": "code",
   "execution_count": 1,
   "id": "c5535766",
   "metadata": {
    "_cell_guid": "b1076dfc-b9ad-4769-8c92-a6c4dae69d19",
    "_uuid": "8f2839f25d086af736a60e9eeb907d3b93b6e0e5",
    "execution": {
     "iopub.execute_input": "2024-09-28T06:42:21.731758Z",
     "iopub.status.busy": "2024-09-28T06:42:21.731299Z",
     "iopub.status.idle": "2024-09-28T06:42:31.996059Z",
     "shell.execute_reply": "2024-09-28T06:42:31.994824Z"
    },
    "papermill": {
     "duration": 10.274244,
     "end_time": "2024-09-28T06:42:31.998656",
     "exception": false,
     "start_time": "2024-09-28T06:42:21.724412",
     "status": "completed"
    },
    "tags": []
   },
   "outputs": [
    {
     "data": {
      "text/html": [
       "<div>\n",
       "<style scoped>\n",
       "    .dataframe tbody tr th:only-of-type {\n",
       "        vertical-align: middle;\n",
       "    }\n",
       "\n",
       "    .dataframe tbody tr th {\n",
       "        vertical-align: top;\n",
       "    }\n",
       "\n",
       "    .dataframe thead th {\n",
       "        text-align: right;\n",
       "    }\n",
       "</style>\n",
       "<table border=\"1\" class=\"dataframe\">\n",
       "  <thead>\n",
       "    <tr style=\"text-align: right;\">\n",
       "      <th></th>\n",
       "      <th>index</th>\n",
       "      <th>Date</th>\n",
       "      <th>Year</th>\n",
       "      <th>Month</th>\n",
       "      <th>Customer Age</th>\n",
       "      <th>Customer Gender</th>\n",
       "      <th>Country</th>\n",
       "      <th>State</th>\n",
       "      <th>Product Category</th>\n",
       "      <th>Sub Category</th>\n",
       "      <th>Quantity</th>\n",
       "      <th>Unit Cost</th>\n",
       "      <th>Unit Price</th>\n",
       "      <th>Cost</th>\n",
       "      <th>Revenue</th>\n",
       "      <th>Column1</th>\n",
       "    </tr>\n",
       "  </thead>\n",
       "  <tbody>\n",
       "    <tr>\n",
       "      <th>0</th>\n",
       "      <td>0</td>\n",
       "      <td>2016-02-19</td>\n",
       "      <td>2016.0</td>\n",
       "      <td>February</td>\n",
       "      <td>29.0</td>\n",
       "      <td>F</td>\n",
       "      <td>United States</td>\n",
       "      <td>Washington</td>\n",
       "      <td>Accessories</td>\n",
       "      <td>Tires and Tubes</td>\n",
       "      <td>1.0</td>\n",
       "      <td>80.00</td>\n",
       "      <td>109.000000</td>\n",
       "      <td>80.0</td>\n",
       "      <td>109.000000</td>\n",
       "      <td>NaN</td>\n",
       "    </tr>\n",
       "    <tr>\n",
       "      <th>1</th>\n",
       "      <td>1</td>\n",
       "      <td>2016-02-20</td>\n",
       "      <td>2016.0</td>\n",
       "      <td>February</td>\n",
       "      <td>29.0</td>\n",
       "      <td>F</td>\n",
       "      <td>United States</td>\n",
       "      <td>Washington</td>\n",
       "      <td>Clothing</td>\n",
       "      <td>Gloves</td>\n",
       "      <td>2.0</td>\n",
       "      <td>24.50</td>\n",
       "      <td>28.500000</td>\n",
       "      <td>49.0</td>\n",
       "      <td>57.000000</td>\n",
       "      <td>NaN</td>\n",
       "    </tr>\n",
       "    <tr>\n",
       "      <th>2</th>\n",
       "      <td>2</td>\n",
       "      <td>2016-02-27</td>\n",
       "      <td>2016.0</td>\n",
       "      <td>February</td>\n",
       "      <td>29.0</td>\n",
       "      <td>F</td>\n",
       "      <td>United States</td>\n",
       "      <td>Washington</td>\n",
       "      <td>Accessories</td>\n",
       "      <td>Tires and Tubes</td>\n",
       "      <td>3.0</td>\n",
       "      <td>3.67</td>\n",
       "      <td>5.000000</td>\n",
       "      <td>11.0</td>\n",
       "      <td>15.000000</td>\n",
       "      <td>NaN</td>\n",
       "    </tr>\n",
       "    <tr>\n",
       "      <th>3</th>\n",
       "      <td>3</td>\n",
       "      <td>2016-03-12</td>\n",
       "      <td>2016.0</td>\n",
       "      <td>March</td>\n",
       "      <td>29.0</td>\n",
       "      <td>F</td>\n",
       "      <td>United States</td>\n",
       "      <td>Washington</td>\n",
       "      <td>Accessories</td>\n",
       "      <td>Tires and Tubes</td>\n",
       "      <td>2.0</td>\n",
       "      <td>87.50</td>\n",
       "      <td>116.500000</td>\n",
       "      <td>175.0</td>\n",
       "      <td>233.000000</td>\n",
       "      <td>NaN</td>\n",
       "    </tr>\n",
       "    <tr>\n",
       "      <th>4</th>\n",
       "      <td>4</td>\n",
       "      <td>2016-03-12</td>\n",
       "      <td>2016.0</td>\n",
       "      <td>March</td>\n",
       "      <td>29.0</td>\n",
       "      <td>F</td>\n",
       "      <td>United States</td>\n",
       "      <td>Washington</td>\n",
       "      <td>Accessories</td>\n",
       "      <td>Tires and Tubes</td>\n",
       "      <td>3.0</td>\n",
       "      <td>35.00</td>\n",
       "      <td>41.666667</td>\n",
       "      <td>105.0</td>\n",
       "      <td>125.000000</td>\n",
       "      <td>NaN</td>\n",
       "    </tr>\n",
       "    <tr>\n",
       "      <th>...</th>\n",
       "      <td>...</td>\n",
       "      <td>...</td>\n",
       "      <td>...</td>\n",
       "      <td>...</td>\n",
       "      <td>...</td>\n",
       "      <td>...</td>\n",
       "      <td>...</td>\n",
       "      <td>...</td>\n",
       "      <td>...</td>\n",
       "      <td>...</td>\n",
       "      <td>...</td>\n",
       "      <td>...</td>\n",
       "      <td>...</td>\n",
       "      <td>...</td>\n",
       "      <td>...</td>\n",
       "      <td>...</td>\n",
       "    </tr>\n",
       "    <tr>\n",
       "      <th>34862</th>\n",
       "      <td>34862</td>\n",
       "      <td>2016-02-07</td>\n",
       "      <td>2016.0</td>\n",
       "      <td>February</td>\n",
       "      <td>38.0</td>\n",
       "      <td>M</td>\n",
       "      <td>France</td>\n",
       "      <td>Hauts de Seine</td>\n",
       "      <td>Bikes</td>\n",
       "      <td>Mountain Bikes</td>\n",
       "      <td>2.0</td>\n",
       "      <td>1160.00</td>\n",
       "      <td>985.500000</td>\n",
       "      <td>2320.0</td>\n",
       "      <td>1971.000000</td>\n",
       "      <td>NaN</td>\n",
       "    </tr>\n",
       "    <tr>\n",
       "      <th>34863</th>\n",
       "      <td>34863</td>\n",
       "      <td>2015-03-13</td>\n",
       "      <td>2015.0</td>\n",
       "      <td>March</td>\n",
       "      <td>38.0</td>\n",
       "      <td>M</td>\n",
       "      <td>France</td>\n",
       "      <td>Hauts de Seine</td>\n",
       "      <td>Bikes</td>\n",
       "      <td>Mountain Bikes</td>\n",
       "      <td>1.0</td>\n",
       "      <td>2049.00</td>\n",
       "      <td>1583.000000</td>\n",
       "      <td>2049.0</td>\n",
       "      <td>1583.000000</td>\n",
       "      <td>NaN</td>\n",
       "    </tr>\n",
       "    <tr>\n",
       "      <th>34864</th>\n",
       "      <td>34864</td>\n",
       "      <td>2015-04-05</td>\n",
       "      <td>2015.0</td>\n",
       "      <td>April</td>\n",
       "      <td>38.0</td>\n",
       "      <td>M</td>\n",
       "      <td>France</td>\n",
       "      <td>Hauts de Seine</td>\n",
       "      <td>Bikes</td>\n",
       "      <td>Mountain Bikes</td>\n",
       "      <td>3.0</td>\n",
       "      <td>683.00</td>\n",
       "      <td>560.666667</td>\n",
       "      <td>2049.0</td>\n",
       "      <td>1682.000000</td>\n",
       "      <td>NaN</td>\n",
       "    </tr>\n",
       "    <tr>\n",
       "      <th>34865</th>\n",
       "      <td>34865</td>\n",
       "      <td>2015-08-30</td>\n",
       "      <td>2015.0</td>\n",
       "      <td>August</td>\n",
       "      <td>38.0</td>\n",
       "      <td>M</td>\n",
       "      <td>France</td>\n",
       "      <td>Hauts de Seine</td>\n",
       "      <td>Bikes</td>\n",
       "      <td>Mountain Bikes</td>\n",
       "      <td>1.0</td>\n",
       "      <td>2320.00</td>\n",
       "      <td>1568.000000</td>\n",
       "      <td>2320.0</td>\n",
       "      <td>1568.000000</td>\n",
       "      <td>NaN</td>\n",
       "    </tr>\n",
       "    <tr>\n",
       "      <th>34866</th>\n",
       "      <td>34866</td>\n",
       "      <td>NaT</td>\n",
       "      <td>NaN</td>\n",
       "      <td>NaN</td>\n",
       "      <td>NaN</td>\n",
       "      <td>NaN</td>\n",
       "      <td>NaN</td>\n",
       "      <td>NaN</td>\n",
       "      <td>NaN</td>\n",
       "      <td>NaN</td>\n",
       "      <td>NaN</td>\n",
       "      <td>NaN</td>\n",
       "      <td>NaN</td>\n",
       "      <td>NaN</td>\n",
       "      <td>641.532095</td>\n",
       "      <td>NaN</td>\n",
       "    </tr>\n",
       "  </tbody>\n",
       "</table>\n",
       "<p>34867 rows × 16 columns</p>\n",
       "</div>"
      ],
      "text/plain": [
       "       index       Date    Year     Month  Customer Age Customer Gender  \\\n",
       "0          0 2016-02-19  2016.0  February          29.0               F   \n",
       "1          1 2016-02-20  2016.0  February          29.0               F   \n",
       "2          2 2016-02-27  2016.0  February          29.0               F   \n",
       "3          3 2016-03-12  2016.0     March          29.0               F   \n",
       "4          4 2016-03-12  2016.0     March          29.0               F   \n",
       "...      ...        ...     ...       ...           ...             ...   \n",
       "34862  34862 2016-02-07  2016.0  February          38.0               M   \n",
       "34863  34863 2015-03-13  2015.0     March          38.0               M   \n",
       "34864  34864 2015-04-05  2015.0     April          38.0               M   \n",
       "34865  34865 2015-08-30  2015.0    August          38.0               M   \n",
       "34866  34866        NaT     NaN       NaN           NaN             NaN   \n",
       "\n",
       "             Country           State Product Category     Sub Category  \\\n",
       "0      United States      Washington      Accessories  Tires and Tubes   \n",
       "1      United States      Washington         Clothing           Gloves   \n",
       "2      United States      Washington      Accessories  Tires and Tubes   \n",
       "3      United States      Washington      Accessories  Tires and Tubes   \n",
       "4      United States      Washington      Accessories  Tires and Tubes   \n",
       "...              ...             ...              ...              ...   \n",
       "34862         France  Hauts de Seine            Bikes   Mountain Bikes   \n",
       "34863         France  Hauts de Seine            Bikes   Mountain Bikes   \n",
       "34864         France  Hauts de Seine            Bikes   Mountain Bikes   \n",
       "34865         France  Hauts de Seine            Bikes   Mountain Bikes   \n",
       "34866            NaN             NaN              NaN              NaN   \n",
       "\n",
       "       Quantity  Unit Cost   Unit Price    Cost      Revenue  Column1  \n",
       "0           1.0      80.00   109.000000    80.0   109.000000      NaN  \n",
       "1           2.0      24.50    28.500000    49.0    57.000000      NaN  \n",
       "2           3.0       3.67     5.000000    11.0    15.000000      NaN  \n",
       "3           2.0      87.50   116.500000   175.0   233.000000      NaN  \n",
       "4           3.0      35.00    41.666667   105.0   125.000000      NaN  \n",
       "...         ...        ...          ...     ...          ...      ...  \n",
       "34862       2.0    1160.00   985.500000  2320.0  1971.000000      NaN  \n",
       "34863       1.0    2049.00  1583.000000  2049.0  1583.000000      NaN  \n",
       "34864       3.0     683.00   560.666667  2049.0  1682.000000      NaN  \n",
       "34865       1.0    2320.00  1568.000000  2320.0  1568.000000      NaN  \n",
       "34866       NaN        NaN          NaN     NaN   641.532095      NaN  \n",
       "\n",
       "[34867 rows x 16 columns]"
      ]
     },
     "execution_count": 1,
     "metadata": {},
     "output_type": "execute_result"
    }
   ],
   "source": [
    "import numpy as np\n",
    "import pandas as pd\n",
    "\n",
    "sales_data_raw = pd.read_excel(\"/kaggle/input/sales-data-for-economic-data-analysis/salesforcourse-4fe2kehu.xlsx\")\n",
    "sales_data_raw"
   ]
  },
  {
   "cell_type": "code",
   "execution_count": 2,
   "id": "1dd019c0",
   "metadata": {
    "execution": {
     "iopub.execute_input": "2024-09-28T06:42:32.010696Z",
     "iopub.status.busy": "2024-09-28T06:42:32.010173Z",
     "iopub.status.idle": "2024-09-28T06:42:32.018124Z",
     "shell.execute_reply": "2024-09-28T06:42:32.016925Z"
    },
    "papermill": {
     "duration": 0.016236,
     "end_time": "2024-09-28T06:42:32.020606",
     "exception": false,
     "start_time": "2024-09-28T06:42:32.004370",
     "status": "completed"
    },
    "tags": []
   },
   "outputs": [
    {
     "data": {
      "text/plain": [
       "Index(['index', 'Date', 'Year', 'Month', 'Customer Age', 'Customer Gender',\n",
       "       'Country', 'State', 'Product Category', 'Sub Category', 'Quantity',\n",
       "       'Unit Cost', 'Unit Price', 'Cost', 'Revenue', 'Column1'],\n",
       "      dtype='object')"
      ]
     },
     "execution_count": 2,
     "metadata": {},
     "output_type": "execute_result"
    }
   ],
   "source": [
    "sales_data_raw.columns"
   ]
  },
  {
   "cell_type": "code",
   "execution_count": 3,
   "id": "b58fdb1c",
   "metadata": {
    "execution": {
     "iopub.execute_input": "2024-09-28T06:42:32.031033Z",
     "iopub.status.busy": "2024-09-28T06:42:32.030596Z",
     "iopub.status.idle": "2024-09-28T06:42:32.053344Z",
     "shell.execute_reply": "2024-09-28T06:42:32.051970Z"
    },
    "papermill": {
     "duration": 0.031196,
     "end_time": "2024-09-28T06:42:32.056059",
     "exception": false,
     "start_time": "2024-09-28T06:42:32.024863",
     "status": "completed"
    },
    "tags": []
   },
   "outputs": [
    {
     "data": {
      "text/plain": [
       "index                   0\n",
       "Date                    1\n",
       "Year                    1\n",
       "Month                   1\n",
       "Customer Age            1\n",
       "Customer Gender         1\n",
       "Country                 1\n",
       "State                   1\n",
       "Product Category        1\n",
       "Sub Category            1\n",
       "Quantity                1\n",
       "Unit Cost               1\n",
       "Unit Price              1\n",
       "Cost                    1\n",
       "Revenue                 0\n",
       "Column1             32293\n",
       "dtype: int64"
      ]
     },
     "execution_count": 3,
     "metadata": {},
     "output_type": "execute_result"
    }
   ],
   "source": [
    "sales_data_raw.isnull().sum()"
   ]
  },
  {
   "cell_type": "code",
   "execution_count": 4,
   "id": "aef868f6",
   "metadata": {
    "execution": {
     "iopub.execute_input": "2024-09-28T06:42:32.067070Z",
     "iopub.status.busy": "2024-09-28T06:42:32.066614Z",
     "iopub.status.idle": "2024-09-28T06:42:32.078964Z",
     "shell.execute_reply": "2024-09-28T06:42:32.077617Z"
    },
    "papermill": {
     "duration": 0.021243,
     "end_time": "2024-09-28T06:42:32.081819",
     "exception": false,
     "start_time": "2024-09-28T06:42:32.060576",
     "status": "completed"
    },
    "tags": []
   },
   "outputs": [],
   "source": [
    "sales_data_raw.drop(columns=['Column1'], inplace=True)"
   ]
  },
  {
   "cell_type": "code",
   "execution_count": 5,
   "id": "ebcbdc3e",
   "metadata": {
    "execution": {
     "iopub.execute_input": "2024-09-28T06:42:32.092599Z",
     "iopub.status.busy": "2024-09-28T06:42:32.092156Z",
     "iopub.status.idle": "2024-09-28T06:42:32.113960Z",
     "shell.execute_reply": "2024-09-28T06:42:32.112320Z"
    },
    "papermill": {
     "duration": 0.030568,
     "end_time": "2024-09-28T06:42:32.116870",
     "exception": false,
     "start_time": "2024-09-28T06:42:32.086302",
     "status": "completed"
    },
    "tags": []
   },
   "outputs": [
    {
     "data": {
      "text/plain": [
       "index               0\n",
       "Date                1\n",
       "Year                1\n",
       "Month               1\n",
       "Customer Age        1\n",
       "Customer Gender     1\n",
       "Country             1\n",
       "State               1\n",
       "Product Category    1\n",
       "Sub Category        1\n",
       "Quantity            1\n",
       "Unit Cost           1\n",
       "Unit Price          1\n",
       "Cost                1\n",
       "Revenue             0\n",
       "dtype: int64"
      ]
     },
     "execution_count": 5,
     "metadata": {},
     "output_type": "execute_result"
    }
   ],
   "source": [
    "sales_data_raw.isnull().sum()"
   ]
  },
  {
   "cell_type": "code",
   "execution_count": 6,
   "id": "e5798261",
   "metadata": {
    "execution": {
     "iopub.execute_input": "2024-09-28T06:42:32.128770Z",
     "iopub.status.busy": "2024-09-28T06:42:32.127870Z",
     "iopub.status.idle": "2024-09-28T06:42:32.147355Z",
     "shell.execute_reply": "2024-09-28T06:42:32.146178Z"
    },
    "papermill": {
     "duration": 0.027873,
     "end_time": "2024-09-28T06:42:32.149924",
     "exception": false,
     "start_time": "2024-09-28T06:42:32.122051",
     "status": "completed"
    },
    "tags": []
   },
   "outputs": [
    {
     "data": {
      "text/plain": [
       "0        False\n",
       "1        False\n",
       "2        False\n",
       "3        False\n",
       "4        False\n",
       "         ...  \n",
       "34862    False\n",
       "34863    False\n",
       "34864    False\n",
       "34865    False\n",
       "34866     True\n",
       "Length: 34867, dtype: bool"
      ]
     },
     "execution_count": 6,
     "metadata": {},
     "output_type": "execute_result"
    }
   ],
   "source": [
    "sales_data_raw.isnull().any(axis=1)"
   ]
  },
  {
   "cell_type": "code",
   "execution_count": 7,
   "id": "8f5d5e1c",
   "metadata": {
    "execution": {
     "iopub.execute_input": "2024-09-28T06:42:32.160763Z",
     "iopub.status.busy": "2024-09-28T06:42:32.160358Z",
     "iopub.status.idle": "2024-09-28T06:42:32.195846Z",
     "shell.execute_reply": "2024-09-28T06:42:32.194082Z"
    },
    "papermill": {
     "duration": 0.044442,
     "end_time": "2024-09-28T06:42:32.198869",
     "exception": false,
     "start_time": "2024-09-28T06:42:32.154427",
     "status": "completed"
    },
    "tags": []
   },
   "outputs": [
    {
     "data": {
      "text/plain": [
       "index               0\n",
       "Date                0\n",
       "Year                0\n",
       "Month               0\n",
       "Customer Age        0\n",
       "Customer Gender     0\n",
       "Country             0\n",
       "State               0\n",
       "Product Category    0\n",
       "Sub Category        0\n",
       "Quantity            0\n",
       "Unit Cost           0\n",
       "Unit Price          0\n",
       "Cost                0\n",
       "Revenue             0\n",
       "dtype: int64"
      ]
     },
     "execution_count": 7,
     "metadata": {},
     "output_type": "execute_result"
    }
   ],
   "source": [
    "sales_data_raw = sales_data_raw.dropna()\n",
    "sales_data_raw.isnull().sum()"
   ]
  },
  {
   "cell_type": "code",
   "execution_count": 8,
   "id": "82c150d7",
   "metadata": {
    "execution": {
     "iopub.execute_input": "2024-09-28T06:42:32.210819Z",
     "iopub.status.busy": "2024-09-28T06:42:32.210357Z",
     "iopub.status.idle": "2024-09-28T06:42:32.242501Z",
     "shell.execute_reply": "2024-09-28T06:42:32.241120Z"
    },
    "papermill": {
     "duration": 0.041852,
     "end_time": "2024-09-28T06:42:32.246061",
     "exception": false,
     "start_time": "2024-09-28T06:42:32.204209",
     "status": "completed"
    },
    "tags": []
   },
   "outputs": [
    {
     "name": "stderr",
     "output_type": "stream",
     "text": [
      "/tmp/ipykernel_17/2378019949.py:1: SettingWithCopyWarning: \n",
      "A value is trying to be set on a copy of a slice from a DataFrame\n",
      "\n",
      "See the caveats in the documentation: https://pandas.pydata.org/pandas-docs/stable/user_guide/indexing.html#returning-a-view-versus-a-copy\n",
      "  sales_data_raw.drop(columns=['index'], inplace = True)\n"
     ]
    },
    {
     "data": {
      "text/html": [
       "<div>\n",
       "<style scoped>\n",
       "    .dataframe tbody tr th:only-of-type {\n",
       "        vertical-align: middle;\n",
       "    }\n",
       "\n",
       "    .dataframe tbody tr th {\n",
       "        vertical-align: top;\n",
       "    }\n",
       "\n",
       "    .dataframe thead th {\n",
       "        text-align: right;\n",
       "    }\n",
       "</style>\n",
       "<table border=\"1\" class=\"dataframe\">\n",
       "  <thead>\n",
       "    <tr style=\"text-align: right;\">\n",
       "      <th></th>\n",
       "      <th>Date</th>\n",
       "      <th>Year</th>\n",
       "      <th>Month</th>\n",
       "      <th>Customer Age</th>\n",
       "      <th>Customer Gender</th>\n",
       "      <th>Country</th>\n",
       "      <th>State</th>\n",
       "      <th>Product Category</th>\n",
       "      <th>Sub Category</th>\n",
       "      <th>Quantity</th>\n",
       "      <th>Unit Cost</th>\n",
       "      <th>Unit Price</th>\n",
       "      <th>Cost</th>\n",
       "      <th>Revenue</th>\n",
       "    </tr>\n",
       "  </thead>\n",
       "  <tbody>\n",
       "    <tr>\n",
       "      <th>0</th>\n",
       "      <td>2016-02-19</td>\n",
       "      <td>2016.0</td>\n",
       "      <td>February</td>\n",
       "      <td>29.0</td>\n",
       "      <td>F</td>\n",
       "      <td>United States</td>\n",
       "      <td>Washington</td>\n",
       "      <td>Accessories</td>\n",
       "      <td>Tires and Tubes</td>\n",
       "      <td>1.0</td>\n",
       "      <td>80.00</td>\n",
       "      <td>109.000000</td>\n",
       "      <td>80.0</td>\n",
       "      <td>109.0</td>\n",
       "    </tr>\n",
       "    <tr>\n",
       "      <th>1</th>\n",
       "      <td>2016-02-20</td>\n",
       "      <td>2016.0</td>\n",
       "      <td>February</td>\n",
       "      <td>29.0</td>\n",
       "      <td>F</td>\n",
       "      <td>United States</td>\n",
       "      <td>Washington</td>\n",
       "      <td>Clothing</td>\n",
       "      <td>Gloves</td>\n",
       "      <td>2.0</td>\n",
       "      <td>24.50</td>\n",
       "      <td>28.500000</td>\n",
       "      <td>49.0</td>\n",
       "      <td>57.0</td>\n",
       "    </tr>\n",
       "    <tr>\n",
       "      <th>2</th>\n",
       "      <td>2016-02-27</td>\n",
       "      <td>2016.0</td>\n",
       "      <td>February</td>\n",
       "      <td>29.0</td>\n",
       "      <td>F</td>\n",
       "      <td>United States</td>\n",
       "      <td>Washington</td>\n",
       "      <td>Accessories</td>\n",
       "      <td>Tires and Tubes</td>\n",
       "      <td>3.0</td>\n",
       "      <td>3.67</td>\n",
       "      <td>5.000000</td>\n",
       "      <td>11.0</td>\n",
       "      <td>15.0</td>\n",
       "    </tr>\n",
       "    <tr>\n",
       "      <th>3</th>\n",
       "      <td>2016-03-12</td>\n",
       "      <td>2016.0</td>\n",
       "      <td>March</td>\n",
       "      <td>29.0</td>\n",
       "      <td>F</td>\n",
       "      <td>United States</td>\n",
       "      <td>Washington</td>\n",
       "      <td>Accessories</td>\n",
       "      <td>Tires and Tubes</td>\n",
       "      <td>2.0</td>\n",
       "      <td>87.50</td>\n",
       "      <td>116.500000</td>\n",
       "      <td>175.0</td>\n",
       "      <td>233.0</td>\n",
       "    </tr>\n",
       "    <tr>\n",
       "      <th>4</th>\n",
       "      <td>2016-03-12</td>\n",
       "      <td>2016.0</td>\n",
       "      <td>March</td>\n",
       "      <td>29.0</td>\n",
       "      <td>F</td>\n",
       "      <td>United States</td>\n",
       "      <td>Washington</td>\n",
       "      <td>Accessories</td>\n",
       "      <td>Tires and Tubes</td>\n",
       "      <td>3.0</td>\n",
       "      <td>35.00</td>\n",
       "      <td>41.666667</td>\n",
       "      <td>105.0</td>\n",
       "      <td>125.0</td>\n",
       "    </tr>\n",
       "    <tr>\n",
       "      <th>...</th>\n",
       "      <td>...</td>\n",
       "      <td>...</td>\n",
       "      <td>...</td>\n",
       "      <td>...</td>\n",
       "      <td>...</td>\n",
       "      <td>...</td>\n",
       "      <td>...</td>\n",
       "      <td>...</td>\n",
       "      <td>...</td>\n",
       "      <td>...</td>\n",
       "      <td>...</td>\n",
       "      <td>...</td>\n",
       "      <td>...</td>\n",
       "      <td>...</td>\n",
       "    </tr>\n",
       "    <tr>\n",
       "      <th>34861</th>\n",
       "      <td>2015-03-22</td>\n",
       "      <td>2015.0</td>\n",
       "      <td>March</td>\n",
       "      <td>38.0</td>\n",
       "      <td>M</td>\n",
       "      <td>France</td>\n",
       "      <td>Charente-Maritime</td>\n",
       "      <td>Bikes</td>\n",
       "      <td>Mountain Bikes</td>\n",
       "      <td>1.0</td>\n",
       "      <td>2049.00</td>\n",
       "      <td>1487.000000</td>\n",
       "      <td>2049.0</td>\n",
       "      <td>1487.0</td>\n",
       "    </tr>\n",
       "    <tr>\n",
       "      <th>34862</th>\n",
       "      <td>2016-02-07</td>\n",
       "      <td>2016.0</td>\n",
       "      <td>February</td>\n",
       "      <td>38.0</td>\n",
       "      <td>M</td>\n",
       "      <td>France</td>\n",
       "      <td>Hauts de Seine</td>\n",
       "      <td>Bikes</td>\n",
       "      <td>Mountain Bikes</td>\n",
       "      <td>2.0</td>\n",
       "      <td>1160.00</td>\n",
       "      <td>985.500000</td>\n",
       "      <td>2320.0</td>\n",
       "      <td>1971.0</td>\n",
       "    </tr>\n",
       "    <tr>\n",
       "      <th>34863</th>\n",
       "      <td>2015-03-13</td>\n",
       "      <td>2015.0</td>\n",
       "      <td>March</td>\n",
       "      <td>38.0</td>\n",
       "      <td>M</td>\n",
       "      <td>France</td>\n",
       "      <td>Hauts de Seine</td>\n",
       "      <td>Bikes</td>\n",
       "      <td>Mountain Bikes</td>\n",
       "      <td>1.0</td>\n",
       "      <td>2049.00</td>\n",
       "      <td>1583.000000</td>\n",
       "      <td>2049.0</td>\n",
       "      <td>1583.0</td>\n",
       "    </tr>\n",
       "    <tr>\n",
       "      <th>34864</th>\n",
       "      <td>2015-04-05</td>\n",
       "      <td>2015.0</td>\n",
       "      <td>April</td>\n",
       "      <td>38.0</td>\n",
       "      <td>M</td>\n",
       "      <td>France</td>\n",
       "      <td>Hauts de Seine</td>\n",
       "      <td>Bikes</td>\n",
       "      <td>Mountain Bikes</td>\n",
       "      <td>3.0</td>\n",
       "      <td>683.00</td>\n",
       "      <td>560.666667</td>\n",
       "      <td>2049.0</td>\n",
       "      <td>1682.0</td>\n",
       "    </tr>\n",
       "    <tr>\n",
       "      <th>34865</th>\n",
       "      <td>2015-08-30</td>\n",
       "      <td>2015.0</td>\n",
       "      <td>August</td>\n",
       "      <td>38.0</td>\n",
       "      <td>M</td>\n",
       "      <td>France</td>\n",
       "      <td>Hauts de Seine</td>\n",
       "      <td>Bikes</td>\n",
       "      <td>Mountain Bikes</td>\n",
       "      <td>1.0</td>\n",
       "      <td>2320.00</td>\n",
       "      <td>1568.000000</td>\n",
       "      <td>2320.0</td>\n",
       "      <td>1568.0</td>\n",
       "    </tr>\n",
       "  </tbody>\n",
       "</table>\n",
       "<p>34866 rows × 14 columns</p>\n",
       "</div>"
      ],
      "text/plain": [
       "            Date    Year     Month  Customer Age Customer Gender  \\\n",
       "0     2016-02-19  2016.0  February          29.0               F   \n",
       "1     2016-02-20  2016.0  February          29.0               F   \n",
       "2     2016-02-27  2016.0  February          29.0               F   \n",
       "3     2016-03-12  2016.0     March          29.0               F   \n",
       "4     2016-03-12  2016.0     March          29.0               F   \n",
       "...          ...     ...       ...           ...             ...   \n",
       "34861 2015-03-22  2015.0     March          38.0               M   \n",
       "34862 2016-02-07  2016.0  February          38.0               M   \n",
       "34863 2015-03-13  2015.0     March          38.0               M   \n",
       "34864 2015-04-05  2015.0     April          38.0               M   \n",
       "34865 2015-08-30  2015.0    August          38.0               M   \n",
       "\n",
       "             Country              State Product Category     Sub Category  \\\n",
       "0      United States         Washington      Accessories  Tires and Tubes   \n",
       "1      United States         Washington         Clothing           Gloves   \n",
       "2      United States         Washington      Accessories  Tires and Tubes   \n",
       "3      United States         Washington      Accessories  Tires and Tubes   \n",
       "4      United States         Washington      Accessories  Tires and Tubes   \n",
       "...              ...                ...              ...              ...   \n",
       "34861         France  Charente-Maritime            Bikes   Mountain Bikes   \n",
       "34862         France     Hauts de Seine            Bikes   Mountain Bikes   \n",
       "34863         France     Hauts de Seine            Bikes   Mountain Bikes   \n",
       "34864         France     Hauts de Seine            Bikes   Mountain Bikes   \n",
       "34865         France     Hauts de Seine            Bikes   Mountain Bikes   \n",
       "\n",
       "       Quantity  Unit Cost   Unit Price    Cost  Revenue  \n",
       "0           1.0      80.00   109.000000    80.0    109.0  \n",
       "1           2.0      24.50    28.500000    49.0     57.0  \n",
       "2           3.0       3.67     5.000000    11.0     15.0  \n",
       "3           2.0      87.50   116.500000   175.0    233.0  \n",
       "4           3.0      35.00    41.666667   105.0    125.0  \n",
       "...         ...        ...          ...     ...      ...  \n",
       "34861       1.0    2049.00  1487.000000  2049.0   1487.0  \n",
       "34862       2.0    1160.00   985.500000  2320.0   1971.0  \n",
       "34863       1.0    2049.00  1583.000000  2049.0   1583.0  \n",
       "34864       3.0     683.00   560.666667  2049.0   1682.0  \n",
       "34865       1.0    2320.00  1568.000000  2320.0   1568.0  \n",
       "\n",
       "[34866 rows x 14 columns]"
      ]
     },
     "execution_count": 8,
     "metadata": {},
     "output_type": "execute_result"
    }
   ],
   "source": [
    "sales_data_raw.drop(columns=['index'], inplace = True)\n",
    "sales_data_raw"
   ]
  },
  {
   "cell_type": "markdown",
   "id": "c13dd1fd",
   "metadata": {
    "papermill": {
     "duration": 0.005152,
     "end_time": "2024-09-28T06:42:32.256773",
     "exception": false,
     "start_time": "2024-09-28T06:42:32.251621",
     "status": "completed"
    },
    "tags": []
   },
   "source": [
    "Check for duplicates"
   ]
  },
  {
   "cell_type": "code",
   "execution_count": 9,
   "id": "9ef9ec37",
   "metadata": {
    "execution": {
     "iopub.execute_input": "2024-09-28T06:42:32.269125Z",
     "iopub.status.busy": "2024-09-28T06:42:32.268653Z",
     "iopub.status.idle": "2024-09-28T06:42:32.310007Z",
     "shell.execute_reply": "2024-09-28T06:42:32.308868Z"
    },
    "papermill": {
     "duration": 0.050781,
     "end_time": "2024-09-28T06:42:32.312817",
     "exception": false,
     "start_time": "2024-09-28T06:42:32.262036",
     "status": "completed"
    },
    "tags": []
   },
   "outputs": [
    {
     "data": {
      "text/plain": [
       "1"
      ]
     },
     "execution_count": 9,
     "metadata": {},
     "output_type": "execute_result"
    }
   ],
   "source": [
    "sales_data_raw.duplicated().sum()"
   ]
  },
  {
   "cell_type": "code",
   "execution_count": 10,
   "id": "1667d132",
   "metadata": {
    "execution": {
     "iopub.execute_input": "2024-09-28T06:42:32.327296Z",
     "iopub.status.busy": "2024-09-28T06:42:32.326476Z",
     "iopub.status.idle": "2024-09-28T06:42:32.389797Z",
     "shell.execute_reply": "2024-09-28T06:42:32.388613Z"
    },
    "papermill": {
     "duration": 0.074252,
     "end_time": "2024-09-28T06:42:32.392594",
     "exception": false,
     "start_time": "2024-09-28T06:42:32.318342",
     "status": "completed"
    },
    "tags": []
   },
   "outputs": [
    {
     "name": "stderr",
     "output_type": "stream",
     "text": [
      "/tmp/ipykernel_17/854868814.py:1: SettingWithCopyWarning: \n",
      "A value is trying to be set on a copy of a slice from a DataFrame\n",
      "\n",
      "See the caveats in the documentation: https://pandas.pydata.org/pandas-docs/stable/user_guide/indexing.html#returning-a-view-versus-a-copy\n",
      "  sales_data_raw.drop_duplicates(inplace=True)\n"
     ]
    },
    {
     "data": {
      "text/plain": [
       "0"
      ]
     },
     "execution_count": 10,
     "metadata": {},
     "output_type": "execute_result"
    }
   ],
   "source": [
    "sales_data_raw.drop_duplicates(inplace=True)\n",
    "sales_data_raw.duplicated().sum()"
   ]
  },
  {
   "cell_type": "code",
   "execution_count": 11,
   "id": "a686aad9",
   "metadata": {
    "execution": {
     "iopub.execute_input": "2024-09-28T06:42:32.405525Z",
     "iopub.status.busy": "2024-09-28T06:42:32.405030Z",
     "iopub.status.idle": "2024-09-28T06:42:44.955970Z",
     "shell.execute_reply": "2024-09-28T06:42:44.954741Z"
    },
    "papermill": {
     "duration": 12.560707,
     "end_time": "2024-09-28T06:42:44.958872",
     "exception": false,
     "start_time": "2024-09-28T06:42:32.398165",
     "status": "completed"
    },
    "tags": []
   },
   "outputs": [],
   "source": [
    "sales_data_raw.to_excel(\"cleanedSalesData.xlsx\",index=False)"
   ]
  }
 ],
 "metadata": {
  "kaggle": {
   "accelerator": "none",
   "dataSources": [
    {
     "datasetId": 3012492,
     "sourceId": 5181812,
     "sourceType": "datasetVersion"
    }
   ],
   "dockerImageVersionId": 30775,
   "isGpuEnabled": false,
   "isInternetEnabled": false,
   "language": "python",
   "sourceType": "notebook"
  },
  "kernelspec": {
   "display_name": "Python 3",
   "language": "python",
   "name": "python3"
  },
  "language_info": {
   "codemirror_mode": {
    "name": "ipython",
    "version": 3
   },
   "file_extension": ".py",
   "mimetype": "text/x-python",
   "name": "python",
   "nbconvert_exporter": "python",
   "pygments_lexer": "ipython3",
   "version": "3.10.14"
  },
  "papermill": {
   "default_parameters": {},
   "duration": 27.169212,
   "end_time": "2024-09-28T06:42:45.786926",
   "environment_variables": {},
   "exception": null,
   "input_path": "__notebook__.ipynb",
   "output_path": "__notebook__.ipynb",
   "parameters": {},
   "start_time": "2024-09-28T06:42:18.617714",
   "version": "2.6.0"
  }
 },
 "nbformat": 4,
 "nbformat_minor": 5
}
